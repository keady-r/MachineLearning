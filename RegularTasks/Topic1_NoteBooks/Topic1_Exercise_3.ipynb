{
 "cells": [
  {
   "cell_type": "markdown",
   "id": "822ae628",
   "metadata": {},
   "source": [
    "<img src = '../../images/ATUlogo.png'>\n",
    "\n",
    "# Exercise 3"
   ]
  },
  {
   "cell_type": "markdown",
   "id": "80aef439",
   "metadata": {},
   "source": [
    "## Overview "
   ]
  },
  {
   "cell_type": "markdown",
   "id": "4a30ebfa",
   "metadata": {},
   "source": [
    "\n",
    "Take the code from the Examples section of the scipy stats documentation for independent samples t-tests, add it to your own notebook and add explain how it works using MarkDown cells and code comments. Improve it in any way you think it could be improved.\n",
    "\n",
    "<b> T - test:\n",
    "    \n",
    "This is a test to determine if two independent samples have the same average value assuming the population is the same for both samples. [1,2]\n",
    "\n",
    "The t-test shows the difference in means between two samples. \n",
    "P-value calculates the probability of observing extreme values assuming the null hypothesis [1,2]. A large p value indicates that the observation did not occur by chance and hence the Null hypothesis cannot be rejected. "
   ]
  },
  {
   "cell_type": "markdown",
   "id": "844f2a50",
   "metadata": {},
   "source": [
    "## Calculation"
   ]
  },
  {
   "cell_type": "code",
   "execution_count": 9,
   "id": "d8f6b500",
   "metadata": {},
   "outputs": [],
   "source": [
    "from scipy import stats\n",
    "import numpy as np\n",
    "import numpy as np\n",
    "from scipy import stats\n",
    "\n",
    "# default_rng is the recommended constructor for the random number class Generator.\n",
    "rng = np.random.default_rng()"
   ]
  },
  {
   "cell_type": "code",
   "execution_count": 13,
   "id": "bac5cd0a",
   "metadata": {},
   "outputs": [
    {
     "data": {
      "text/plain": [
       "Ttest_indResult(statistic=3.4463884028073513, pvalue=0.01369338726499547)"
      ]
     },
     "execution_count": 13,
     "metadata": {},
     "output_type": "execute_result"
    }
   ],
   "source": [
    "#Function for setting population with same size and mean \n",
    "def stats_norm(x, y, z):\n",
    "    return stats.norm.rvs(loc=x, scale=y, size=z, random_state=rng)\n",
    "\n",
    "#outputs of definition\n",
    "population1 = stats_norm(5, 20, 500)\n",
    "population2 = stats_norm(5, 20, 500)\n",
    "population3 = stats_norm(5, 20, 500)\n",
    "population4 = stats_norm(5, 20, 500)\n",
    "population5 = stats_norm(5, 20, 500)\n",
    "\n",
    "\n",
    "stats.ttest_ind(population1, population2)\n",
    "stats.ttest_ind(population1, population2, equal_var=False)\n",
    "stats.ttest_ind(population1, population3)\n",
    "stats.ttest_ind(population1, population3, equal_var=False)\n",
    "stats.ttest_ind(population1, population4)\n",
    "stats.ttest_ind(population1, population4, equal_var=False)\n",
    "stats.ttest_ind(population1, population5)\n",
    "stats.ttest_ind(population1, population5, equal_var=False)\n",
    "\n",
    "stats.ttest_ind(population1, population5, permutations=10000, random_state=rng)\n",
    "\n",
    "a = (56, 128.6, 12, 123.8, 64.34, 78, 763.3)\n",
    "b = (1.1, 2.9, 4.2)\n",
    "\n",
    "stats.ttest_ind(a, b, trim=.2)\n"
   ]
  },
  {
   "cell_type": "markdown",
   "id": "c61d2851",
   "metadata": {},
   "source": [
    "## References\n",
    "1. Reference code: https://docs.scipy.org/doc/scipy/reference/generated/scipy.stats.ttest_ind.html\n",
    "2. What is a t-test : https://www.scribbr.com/statistics/t-test/"
   ]
  },
  {
   "cell_type": "code",
   "execution_count": null,
   "id": "59b87476",
   "metadata": {},
   "outputs": [],
   "source": []
  }
 ],
 "metadata": {
  "kernelspec": {
   "display_name": "Python 3 (ipykernel)",
   "language": "python",
   "name": "python3"
  },
  "language_info": {
   "codemirror_mode": {
    "name": "ipython",
    "version": 3
   },
   "file_extension": ".py",
   "mimetype": "text/x-python",
   "name": "python",
   "nbconvert_exporter": "python",
   "pygments_lexer": "ipython3",
   "version": "3.11.0"
  }
 },
 "nbformat": 4,
 "nbformat_minor": 5
}
