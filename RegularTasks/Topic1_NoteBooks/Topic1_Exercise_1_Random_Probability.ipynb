{
 "cells": [
  {
   "cell_type": "markdown",
   "id": "76219143",
   "metadata": {},
   "source": [
    "<img src = '../../images/ATUlogo.png'>\n",
    "\n",
    "# Exercise 1. Random Probability - Fisher Lady tasting Tea "
   ]
  },
  {
   "cell_type": "markdown",
   "id": "dfab5b5d",
   "metadata": {},
   "source": [
    "### Overview on Fisher "
   ]
  },
  {
   "cell_type": "markdown",
   "id": "c38c3417",
   "metadata": {},
   "source": [
    "The lady tasting tea experiment was designed by Fisher to determine if a person could determine which of the 8 cups of tea were made by adding the milk first and which were made by adding the milk after the water had been added. Of the 8 cups 4 were made with milk first (tea_milk) and 4 were made with hot water added first (tea_water). [1]\n",
    "\n",
    "There are several concepts that must be considered when conducting this experiement such as the null hypothesis, the impact of bias, and Randomisation. \n",
    "\n"
   ]
  },
  {
   "cell_type": "markdown",
   "id": "3b950d97",
   "metadata": {},
   "source": [
    "<b> Null Hypothesis\n",
    "    \n",
    " The Null Hypothesis is a theory in statistics which indicates that there is no relationship in a set of single observed variables between two sets of observed data and measured phenomena. [2]. This theory has played a significant role in the testing of differnt experiments and observations where it is presumed that there is no differnce until proven otherwise. In the example above it should be thought that the lady cannot determine how the tea was made until it could be proven otherwise. "
   ]
  },
  {
   "cell_type": "markdown",
   "id": "524e6dc1",
   "metadata": {},
   "source": [
    "<b> Impact of Bias \n",
    "    \n",
    "Statistical bias is a term given to anything that may lead to a systematic differnce between true parameters of a population and the statistics used to estimate those. The impact on bias on a study can undermine the entire concept and it leads to questioning on whether the data was accurately generated and whether the outcome can be trusted. [3]"
   ]
  },
  {
   "cell_type": "markdown",
   "id": "db6c6ab0",
   "metadata": {},
   "source": [
    "<b> Randomisation\n",
    "\n",
    "This is the act of randomly assigning subjects in a study to different treatments e.g. in the example above, to advance the test and to give further support for it's merit the cups should be given to the woman at random to determine if milk was added in first or second. [4] The aim of randomisation is to control variables that are not directly included in the analysis. "
   ]
  },
  {
   "cell_type": "markdown",
   "id": "65a3d7e9",
   "metadata": {},
   "source": [
    "## Calculation"
   ]
  },
  {
   "cell_type": "markdown",
   "id": "b249e134",
   "metadata": {},
   "source": [
    "\n",
    "\n",
    "(1/70)*100 = ~1.5% \n",
    "\n",
    "The above gives about a 1.5% chance of randomly selecting the correct cups. Calculate the minimum number of cups of tea required to ensure the probability of randomly selecting the correct cups is less than or equal to 1%.\n",
    "\n",
    "<img src = '../../images/Outcomecalculation.png'>\n"
   ]
  },
  {
   "cell_type": "code",
   "execution_count": 1,
   "id": "e3ce1ae6",
   "metadata": {},
   "outputs": [
    {
     "name": "stdout",
     "output_type": "stream",
     "text": [
      "\n",
      " The possible number of choices of selecting 4 cups from 8 is : 70.0\n",
      "\n",
      " The probability of selecting 4 right cups from 70.0 options is : 1.43 %\n"
     ]
    }
   ],
   "source": [
    "#parameters\n",
    "\n",
    "N = 8\n",
    "x = 4 \n",
    "\n",
    "#choices= (8*7*6*5*4*3*2*1)/4*3*2*1(4*3*2*1)\n",
    "choices = (8*7*6*5)/(4*3*2*1)\n",
    "print(\"\\n The possible number of choices of selecting 4 cups from 8 is :\", choices)\n",
    "\n",
    "correctcups = round(((1.0/choices)*100),2)\n",
    "print(\"\\n The probability of selecting 4 right cups from\", choices, \"options is :\", correctcups, \"%\")\n"
   ]
  },
  {
   "cell_type": "markdown",
   "id": "e24ba529",
   "metadata": {},
   "source": [
    "From the above we know that by increasing the population size the probability decreases. "
   ]
  },
  {
   "cell_type": "code",
   "execution_count": 2,
   "id": "a7f8207e",
   "metadata": {},
   "outputs": [
    {
     "name": "stdout",
     "output_type": "stream",
     "text": [
      "\n",
      " The possible number of choices of selecting 4 cups from 9 is : 126.0\n",
      "\n",
      " The probability of selecting 4 right cups from 126.0 options is : 0.79 %\n"
     ]
    },
    {
     "data": {
      "text/plain": [
       "126.0"
      ]
     },
     "execution_count": 2,
     "metadata": {},
     "output_type": "execute_result"
    }
   ],
   "source": [
    "\n",
    "#parameters\n",
    "\n",
    "N = 9\n",
    "x = 4 \n",
    "\n",
    "#choices= (19*8*7*6*5*4*3*2*1)/4*3*2*1(5*4*3*2*1)\n",
    "choices = (9*8*7*6)/(4*3*2*1)\n",
    "print(\"\\n The possible number of choices of selecting 4 cups from 9 is :\", choices)\n",
    "\n",
    "correctcups = round(((1.0/choices)*100),2)\n",
    "print(\"\\n The probability of selecting 4 right cups from\", choices, \"options is :\", correctcups, \"%\")\n",
    "\n",
    "#Sanity check \n",
    "res = (4*3*2*1)*(5*4*3*2*1)\n",
    "res1 = (9*8*7*6*5*4*3*2*1)\n",
    "res1/res"
   ]
  },
  {
   "cell_type": "code",
   "execution_count": 3,
   "id": "835f4527",
   "metadata": {},
   "outputs": [
    {
     "name": "stdout",
     "output_type": "stream",
     "text": [
      "\n",
      " The possible number of choices of selecting 4 cups from 9 is : 84.0\n",
      "\n",
      " The probability of selecting 4 right cups from 84.0 options is : 1.19 %\n"
     ]
    }
   ],
   "source": [
    "\n",
    "#parameters\n",
    "\n",
    "N = 9\n",
    "x = 3\n",
    "\n",
    "#choices= (9*8*7*6*5*4*3*2*1)/3*2*1(6*5*4*3*2*1)\n",
    "choices = (9*8*7)/(3*2*1)\n",
    "print(\"\\n The possible number of choices of selecting 4 cups from 9 is :\", choices)\n",
    "\n",
    "correctcups = round(((1.0/choices)*100),2)\n",
    "print(\"\\n The probability of selecting 4 right cups from\", choices, \"options is :\", correctcups, \"%\")\n",
    "\n",
    "#Sanity check \n",
    "#res = (3*2*1)*(6*5*4*3*2*1)\n",
    "#res1 = (9*8*7*6*5*4*3*2*1)\n",
    "#res1/res"
   ]
  },
  {
   "cell_type": "markdown",
   "id": "9480c063",
   "metadata": {},
   "source": [
    "<b> Bonus: How many would be required if you were to let the taster get one cup wrong while maintaining the 1% threshold?"
   ]
  },
  {
   "cell_type": "code",
   "execution_count": 4,
   "id": "5a1bcba5",
   "metadata": {},
   "outputs": [
    {
     "name": "stdout",
     "output_type": "stream",
     "text": [
      "\n",
      " The possible number of choices of selecting 3 right cups and 1 wrong cup  from 12 is : 495.0\n",
      "\n",
      " The probability of selecting  3 right cups and 1 wrong cup from 495.0 options is : 0.81 %\n"
     ]
    },
    {
     "data": {
      "text/plain": [
       "495.0"
      ]
     },
     "execution_count": 4,
     "metadata": {},
     "output_type": "execute_result"
    }
   ],
   "source": [
    "\n",
    "#parameters\n",
    "\n",
    "N = 12\n",
    "x = 4\n",
    "\n",
    "# how many ways can you select 3 right ups and 1 wrong cup \n",
    "\n",
    "# selection 4 spaces : _ _ _ _ \n",
    "# options for getting 3 right (r) and 1 wrong (w).\n",
    "# ==> R_R_R_W\n",
    "# ==> W_R_R_R\n",
    "# ==> R_W_R_R\n",
    "# ==> R_R_W_R\n",
    "\n",
    "# 4 ways for getting 3 right and 1 wrong. \n",
    "\n",
    "\n",
    "#choices= (12*11*10*9*8*7*6*5*4*3*2*1)/4*3*2*1(8*7*6*5*4*3*2*1)\n",
    "choices = (12*11*10*9)/(4*3*2*1)\n",
    "print(\"\\n The possible number of choices of selecting 3 right cups and 1 wrong cup  from 12 is :\", choices)\n",
    "\n",
    "correctcups = round(((4.0/choices)*100),2)\n",
    "print(\"\\n The probability of selecting  3 right cups and 1 wrong cup from\", choices, \"options is :\", correctcups, \"%\")\n",
    "\n",
    "#Sanity check \n",
    "res = (4*3*2*1)*(8*7*6*5*4*3*2*1)\n",
    "res1 = (12*11*10*9*8*7*6*5*4*3*2*1)\n",
    "res1/res"
   ]
  },
  {
   "cell_type": "code",
   "execution_count": 5,
   "id": "3b052e70",
   "metadata": {},
   "outputs": [
    {
     "name": "stdout",
     "output_type": "stream",
     "text": [
      "\n",
      "_________________________________________________________________________________________________\n",
      "\n",
      "\n",
      " The possible number of choices of selecting 3 right cups and 1 wrong cup  from 11 is : 330.0\n",
      "\n",
      " The probability of selecting  3 right cups and 1 wrong cup from 330.0 options is : 1.21 %\n",
      "\n",
      "__________________________________________________________________________________________________\n",
      "\n"
     ]
    }
   ],
   "source": [
    "\n",
    "#parameters\n",
    "\n",
    "N = 11\n",
    "x = 4\n",
    "\n",
    "# how many ways can you select 3 right ups and 1 wrong cup \n",
    "\n",
    "# selection 4 spaces : _ _ _ _ \n",
    "# options for getting 3 right (r) and 1 wrong (w).\n",
    "# ==> R_R_R_W\n",
    "# ==> W_R_R_R\n",
    "# ==> R_W_R_R\n",
    "# ==> R_R_W_R\n",
    "\n",
    "# 4 ways for getting 3 right and 1 wrong. \n",
    "\n",
    "\n",
    "#choices= (11*10*9*8*7*6*5*4*3*2*1)/4*3*2*1(7*6*5*4*3*2*1)\n",
    "choices = (11*10*9*8)/(4*3*2*1)\n",
    "print (\"\\n_________________________________________________________________________________________________\\n\")\n",
    "print(\"\\n The possible number of choices of selecting 3 right cups and 1 wrong cup  from 11 is :\", choices)\n",
    "\n",
    "correctcups = round(((4.0/choices)*100),2)\n",
    "print(\"\\n The probability of selecting  3 right cups and 1 wrong cup from\", choices, \"options is :\", correctcups, \"%\")\n",
    "print (\"\\n__________________________________________________________________________________________________\\n\")\n",
    "\n",
    "#Sanity check \n",
    "#res = (4*3*2*1)*(7*6*5*4*3*2*1)\n",
    "#res1 = (11*10*9*8*7*6*5*4*3*2*1)\n",
    "#res1/res"
   ]
  },
  {
   "cell_type": "markdown",
   "id": "875bac0a",
   "metadata": {},
   "source": [
    "### References \n",
    "1. Lecture content. \n",
    "2. Null Hypothesis : https://www.sciencedirect.com/topics/earth-and-planetary-sciences/null-hypothesis#:~:text=The%20null%20hypothesis%20is%20a,observed%20data%20and%20measured%20phenomena.\n",
    "3. Statistical Bias : https://online.hbs.edu/blog/post/types-of-statistical-bias\n",
    "4. Randomisation https://www.statology.org/randomization-in-statistics/#:~:text=In%20the%20field%20of%20statistics,study%20to%20different%20treatment%20groups."
   ]
  }
 ],
 "metadata": {
  "kernelspec": {
   "display_name": "Python 3 (ipykernel)",
   "language": "python",
   "name": "python3"
  },
  "language_info": {
   "codemirror_mode": {
    "name": "ipython",
    "version": 3
   },
   "file_extension": ".py",
   "mimetype": "text/x-python",
   "name": "python",
   "nbconvert_exporter": "python",
   "pygments_lexer": "ipython3",
   "version": "3.11.0"
  }
 },
 "nbformat": 4,
 "nbformat_minor": 5
}
