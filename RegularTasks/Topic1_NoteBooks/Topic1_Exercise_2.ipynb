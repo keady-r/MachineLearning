{
 "cells": [
  {
   "cell_type": "markdown",
   "id": "14c437e5",
   "metadata": {},
   "source": [
    "<img src = '../../images/ATUlogo.png'>\n",
    "\n",
    "# Title: Exercise 2 - Use scipy's version of Fisher's exact test to simulate the Lady Tasting Tea problem.\n",
    "\n",
    "<b>\n",
    "\n",
    "\n"
   ]
  },
  {
   "cell_type": "code",
   "execution_count": 1,
   "id": "abd06853",
   "metadata": {},
   "outputs": [
    {
     "name": "stdout",
     "output_type": "stream",
     "text": [
      "\n",
      "Probability of picking the correct 4 cups at random from 8 cups when the pvalue is twoside is : 0.028571428571428567\n",
      "\n",
      "Probability of picking the correct 4 cups at random from 8 cups when the pvalue is one-side greater is : 0.014285714285714284\n",
      "\n",
      "Probability of picking the correct 4 cups at random from 8 cups when the pvalue is one-side less  is : 1.0\n"
     ]
    }
   ],
   "source": [
    "#reference 1. \n",
    "import numpy as np\n",
    "from scipy.stats import fisher_exact\n",
    "\n",
    "table = np.array([[4, 0], [0, 4]])\n",
    "#Two-sided\n",
    "oddsr, pvalue_twoside = fisher_exact(table, alternative='two-sided')\n",
    "#One-sided The one-sided p-value for alternative='greater' is the probability that a random table has x >= a, which in our example is x >= 0,\n",
    "oddsr, pvalue_oneside = fisher_exact(table, alternative='greater')\n",
    "#One-sided For alternative='less', the one-sided p-value is the probability that a random table has x <= a, (i.e. x <= 4 in our example)\n",
    "oddsr, pvalue_less = fisher_exact(table, alternative='less')\n",
    "\n",
    "\n",
    "\n",
    "print(\"\\nProbability of picking the correct 4 cups at random from 8 cups when the pvalue is twoside is : \" + str(pvalue_twoside))\n",
    "print(\"\\nProbability of picking the correct 4 cups at random from 8 cups when the pvalue is one-side greater is : \" + str(pvalue_oneside))\n",
    "print(\"\\nProbability of picking the correct 4 cups at random from 8 cups when the pvalue is one-side less  is : \" + str(pvalue_less))\n"
   ]
  },
  {
   "cell_type": "markdown",
   "id": "6291dfd8",
   "metadata": {},
   "source": [
    "## References:\n",
    "1. spicy.fisher: https://docs.scipy.org/doc/scipy/reference/generated/scipy.stats.fisher_exact.html\n",
    "2. Lecture content \n"
   ]
  }
 ],
 "metadata": {
  "kernelspec": {
   "display_name": "Python 3 (ipykernel)",
   "language": "python",
   "name": "python3"
  },
  "language_info": {
   "codemirror_mode": {
    "name": "ipython",
    "version": 3
   },
   "file_extension": ".py",
   "mimetype": "text/x-python",
   "name": "python",
   "nbconvert_exporter": "python",
   "pygments_lexer": "ipython3",
   "version": "3.11.0"
  }
 },
 "nbformat": 4,
 "nbformat_minor": 5
}
